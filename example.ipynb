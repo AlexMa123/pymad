{
  "nbformat": 4,
  "nbformat_minor": 0,
  "metadata": {
    "colab": {
      "provenance": [],
      "collapsed_sections": [],
      "authorship_tag": "ABX9TyMNl0NE1gQuao3vw+fNxwIt",
      "include_colab_link": true
    },
    "kernelspec": {
      "name": "python3",
      "display_name": "Python 3"
    },
    "language_info": {
      "name": "python"
    },
    "accelerator": "GPU"
  },
  "cells": [
    {
      "cell_type": "markdown",
      "metadata": {
        "id": "view-in-github",
        "colab_type": "text"
      },
      "source": [
        "<a href=\"https://colab.research.google.com/github/AlexMa123/pymad/blob/master/example.ipynb\" target=\"_parent\"><img src=\"https://colab.research.google.com/assets/colab-badge.svg\" alt=\"Open In Colab\"/></a>"
      ]
    },
    {
      "cell_type": "markdown",
      "source": [
        "# pymad\n",
        "A package used to calculate the mean amplitude deviation (MAD) (https://onlinelibrary.wiley.com/doi/10.1111/cpf.12127)\n",
        "## Installation"
      ],
      "metadata": {
        "id": "IOv0_NhMvKzM"
      }
    },
    {
      "cell_type": "code",
      "execution_count": 3,
      "metadata": {
        "id": "uVY8KxbzmSTr",
        "colab": {
          "base_uri": "https://localhost:8080/"
        },
        "outputId": "2282cb15-83cd-447e-ad02-f1ba9e6f24cb"
      },
      "outputs": [
        {
          "output_type": "stream",
          "name": "stdout",
          "text": [
            "Looking in indexes: https://pypi.org/simple, https://us-python.pkg.dev/colab-wheels/public/simple/\n",
            "Collecting git+https://github.com/AlexMa123/pymad\n",
            "  Cloning https://github.com/AlexMa123/pymad to /tmp/pip-req-build-khpwlujt\n",
            "  Running command git clone -q https://github.com/AlexMa123/pymad /tmp/pip-req-build-khpwlujt\n"
          ]
        }
      ],
      "source": [
        "!pip install git+https://github.com/AlexMa123/pymad"
      ]
    },
    {
      "cell_type": "code",
      "source": [
        "from pymad import cal_mad_jit, cal_mad_cuda\n",
        "from pymad.mad_cc import cal_mad\n",
        "import numpy as np\n",
        "import cupy as cp\n",
        "import time"
      ],
      "metadata": {
        "id": "SxqhDDVsoVPq"
      },
      "execution_count": 1,
      "outputs": []
    },
    {
      "cell_type": "markdown",
      "source": [
        "## Usage:"
      ],
      "metadata": {
        "id": "sU4VpjaaxQA7"
      }
    },
    {
      "cell_type": "code",
      "source": [
        "?cal_mad_jit"
      ],
      "metadata": {
        "id": "i0cGQiBhnzKi"
      },
      "execution_count": 46,
      "outputs": []
    },
    {
      "cell_type": "markdown",
      "source": [
        "## The function accelerate with numba jit"
      ],
      "metadata": {
        "id": "9Hy3W4F3xrDl"
      }
    },
    {
      "cell_type": "code",
      "source": [
        "xyz = np.random.rand(3, 8 * 3600 * 128)\n",
        "start = time.time()\n",
        "for i in range(1000):\n",
        "    cal_mad_jit(xyz, 128)\n",
        "print(time.time() - start)"
      ],
      "metadata": {
        "id": "eKsaJjO7n1IN",
        "colab": {
          "base_uri": "https://localhost:8080/"
        },
        "outputId": "2fcdaa49-7381-49df-d94b-dafaa5e3e2b4"
      },
      "execution_count": 2,
      "outputs": [
        {
          "output_type": "stream",
          "name": "stdout",
          "text": [
            "23.188104391098022\n"
          ]
        }
      ]
    },
    {
      "cell_type": "markdown",
      "source": [
        "## The function pre-complied"
      ],
      "metadata": {
        "id": "e-f_TFmHyFUp"
      }
    },
    {
      "cell_type": "code",
      "source": [
        "start = time.time()\n",
        "for i in range(1000):\n",
        "    cal_mad(xyz, 128)\n",
        "print(time.time() - start)"
      ],
      "metadata": {
        "colab": {
          "base_uri": "https://localhost:8080/"
        },
        "id": "nOYFNFGLxPB4",
        "outputId": "2c54966b-515f-43c5-8833-bfa0e2a58212"
      },
      "execution_count": 3,
      "outputs": [
        {
          "output_type": "stream",
          "name": "stdout",
          "text": [
            "23.161299228668213\n"
          ]
        }
      ]
    },
    {
      "cell_type": "markdown",
      "source": [
        "## Thun function accelerate by CUDA"
      ],
      "metadata": {
        "id": "kt-IApZAyWr7"
      }
    },
    {
      "cell_type": "code",
      "source": [
        "xyz = cp.random.rand(3, 8 * 3600 * 128)\n",
        "start = time.time()\n",
        "for i in range(1000):\n",
        "    cal_mad_cuda(xyz, 128)\n",
        "print(time.time() - start)"
      ],
      "metadata": {
        "colab": {
          "base_uri": "https://localhost:8080/"
        },
        "id": "F2zNS4oQyO-H",
        "outputId": "17c2427f-8fd3-440e-e9bc-45d4f164e06b"
      },
      "execution_count": 4,
      "outputs": [
        {
          "output_type": "stream",
          "name": "stdout",
          "text": [
            "9.295504331588745\n"
          ]
        }
      ]
    },
    {
      "cell_type": "code",
      "source": [
        "xyz = np.random.rand(3, 8 * 3600 * 128)\n",
        "xyz_cuda = cp.asarray(xyz)\n",
        "mad_jit = cal_mad_jit(xyz, 128)\n",
        "mad_cuda = cal_mad_cuda(xyz_cuda, 128)\n",
        "np.allclose(mad_jit, mad_cuda.get())"
      ],
      "metadata": {
        "colab": {
          "base_uri": "https://localhost:8080/"
        },
        "id": "YDT2hvcEyc6u",
        "outputId": "79c1523b-a715-4ef2-a5f6-da33a80dee56"
      },
      "execution_count": 5,
      "outputs": [
        {
          "output_type": "execute_result",
          "data": {
            "text/plain": [
              "True"
            ]
          },
          "metadata": {},
          "execution_count": 5
        }
      ]
    },
    {
      "cell_type": "code",
      "source": [
        "mad = cal_mad_jit(xyz, 128)\n",
        "np.allclose(mad, mad_jit)"
      ],
      "metadata": {
        "colab": {
          "base_uri": "https://localhost:8080/"
        },
        "id": "zHmZO3RBzE1b",
        "outputId": "4e609098-0e99-48c7-9b3f-c01631b34d35"
      },
      "execution_count": 6,
      "outputs": [
        {
          "output_type": "execute_result",
          "data": {
            "text/plain": [
              "True"
            ]
          },
          "metadata": {},
          "execution_count": 6
        }
      ]
    },
    {
      "cell_type": "code",
      "source": [],
      "metadata": {
        "id": "Hg7HvBMX0ClO"
      },
      "execution_count": null,
      "outputs": []
    }
  ]
}