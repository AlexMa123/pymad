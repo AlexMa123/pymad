{
  "nbformat": 4,
  "nbformat_minor": 0,
  "metadata": {
    "colab": {
      "provenance": [],
      "collapsed_sections": [],
      "authorship_tag": "ABX9TyMoimZGJlmOOzy9Ruj9hDd/",
      "include_colab_link": true
    },
    "kernelspec": {
      "name": "python3",
      "display_name": "Python 3"
    },
    "language_info": {
      "name": "python"
    },
    "accelerator": "GPU"
  },
  "cells": [
    {
      "cell_type": "markdown",
      "metadata": {
        "id": "view-in-github",
        "colab_type": "text"
      },
      "source": [
        "<a href=\"https://colab.research.google.com/github/AlexMa123/pymad/blob/master/example.ipynb\" target=\"_parent\"><img src=\"https://colab.research.google.com/assets/colab-badge.svg\" alt=\"Open In Colab\"/></a>"
      ]
    },
    {
      "cell_type": "markdown",
      "source": [
        "# pymad\n",
        "A package used to calculate the mean amplitude deviation (MAD) (https://onlinelibrary.wiley.com/doi/10.1111/cpf.12127)\n",
        "## Installation"
      ],
      "metadata": {
        "id": "IOv0_NhMvKzM"
      }
    },
    {
      "cell_type": "code",
      "execution_count": 2,
      "metadata": {
        "id": "uVY8KxbzmSTr",
        "colab": {
          "base_uri": "https://localhost:8080/"
        },
        "outputId": "b7cc8a09-cf69-4fb6-ac8c-dc666c09c2a1"
      },
      "outputs": [
        {
          "output_type": "stream",
          "name": "stdout",
          "text": [
            "Looking in indexes: https://pypi.org/simple, https://us-python.pkg.dev/colab-wheels/public/simple/\n",
            "Collecting git+https://github.com/AlexMa123/pymad\n",
            "  Cloning https://github.com/AlexMa123/pymad to /tmp/pip-req-build-ruxigrah\n",
            "  Running command git clone -q https://github.com/AlexMa123/pymad /tmp/pip-req-build-ruxigrah\n",
            "Building wheels for collected packages: pymad\n",
            "  Building wheel for pymad (setup.py) ... \u001b[?25l\u001b[?25hdone\n",
            "  Created wheel for pymad: filename=pymad-0.1.0-cp37-cp37m-linux_x86_64.whl size=215051 sha256=be49da57eaf5e6d7cc4bbba988d96c65940b8413b25835de71745ab18edf33a6\n",
            "  Stored in directory: /tmp/pip-ephem-wheel-cache-ni2w5_m1/wheels/ed/e4/92/592ba44583be660c717f4a5dbb304fba01d7f281992e5bdc88\n",
            "Successfully built pymad\n",
            "Installing collected packages: pymad\n",
            "Successfully installed pymad-0.1.0\n"
          ]
        }
      ],
      "source": [
        "!pip install git+https://github.com/AlexMa123/pymad"
      ]
    },
    {
      "cell_type": "code",
      "source": [
        "from pymad import cal_mad_jit, cal_mad_cuda\n",
        "from pymad.mad_cc import cal_mad\n",
        "import numpy as np\n",
        "import cupy as cp\n",
        "import time"
      ],
      "metadata": {
        "id": "SxqhDDVsoVPq"
      },
      "execution_count": 12,
      "outputs": []
    },
    {
      "cell_type": "markdown",
      "source": [
        "## Usage:"
      ],
      "metadata": {
        "id": "sU4VpjaaxQA7"
      }
    },
    {
      "cell_type": "code",
      "source": [
        "?cal_mad_jit"
      ],
      "metadata": {
        "id": "i0cGQiBhnzKi"
      },
      "execution_count": null,
      "outputs": []
    },
    {
      "cell_type": "markdown",
      "source": [
        "## The function accelerate by numba jit"
      ],
      "metadata": {
        "id": "9Hy3W4F3xrDl"
      }
    },
    {
      "cell_type": "code",
      "source": [
        "xyz = np.random.rand(3, 8 * 3600 * 128)\n",
        "start = time.time()\n",
        "for i in range(100):\n",
        "    cal_mad_jit(xyz, 128)\n",
        "print(time.time() - start)"
      ],
      "metadata": {
        "id": "eKsaJjO7n1IN",
        "colab": {
          "base_uri": "https://localhost:8080/"
        },
        "outputId": "1ad692c3-1091-4830-c50b-f035f053e8b4"
      },
      "execution_count": 19,
      "outputs": [
        {
          "output_type": "stream",
          "name": "stdout",
          "text": [
            "1.9084372520446777\n"
          ]
        }
      ]
    },
    {
      "cell_type": "markdown",
      "source": [
        "## The function pre-complied"
      ],
      "metadata": {
        "id": "e-f_TFmHyFUp"
      }
    },
    {
      "cell_type": "code",
      "source": [
        "start = time.time()\n",
        "for i in range(100):\n",
        "    cal_mad(xyz, 128)\n",
        "print(time.time() - start)"
      ],
      "metadata": {
        "colab": {
          "base_uri": "https://localhost:8080/"
        },
        "id": "nOYFNFGLxPB4",
        "outputId": "7fd27eb4-9086-4696-a969-3a8be65a629a"
      },
      "execution_count": 20,
      "outputs": [
        {
          "output_type": "stream",
          "name": "stdout",
          "text": [
            "2.2967662811279297\n"
          ]
        }
      ]
    },
    {
      "cell_type": "markdown",
      "source": [
        "## The function accelerate by CUDA"
      ],
      "metadata": {
        "id": "kt-IApZAyWr7"
      }
    },
    {
      "cell_type": "code",
      "source": [
        "xyz_cuda = cp.asarray(xyz)\n",
        "start = time.time()\n",
        "for i in range(100):\n",
        "    cal_mad_cuda(xyz_cuda, 128)\n",
        "print(time.time() - start)"
      ],
      "metadata": {
        "colab": {
          "base_uri": "https://localhost:8080/"
        },
        "id": "F2zNS4oQyO-H",
        "outputId": "394b15b2-b811-4a9f-cc5c-4e327f94db7d"
      },
      "execution_count": 22,
      "outputs": [
        {
          "output_type": "stream",
          "name": "stdout",
          "text": [
            "0.012459039688110352\n"
          ]
        }
      ]
    },
    {
      "cell_type": "code",
      "source": [
        "xyz = np.random.rand(3, 8 * 3600 * 128)\n",
        "xyz_cuda = cp.asarray(xyz)\n",
        "mad_jit = cal_mad_jit(xyz, 128)\n",
        "mad_cuda = cal_mad_cuda(xyz_cuda, 128)\n",
        "np.allclose(mad_jit, mad_cuda.get())"
      ],
      "metadata": {
        "colab": {
          "base_uri": "https://localhost:8080/"
        },
        "id": "YDT2hvcEyc6u",
        "outputId": "23cd50a9-542b-4de8-b46b-261786cbfce5"
      },
      "execution_count": 17,
      "outputs": [
        {
          "output_type": "execute_result",
          "data": {
            "text/plain": [
              "True"
            ]
          },
          "metadata": {},
          "execution_count": 17
        }
      ]
    },
    {
      "cell_type": "code",
      "source": [
        "mad = cal_mad_jit(xyz, 128)\n",
        "np.allclose(mad, mad_jit)"
      ],
      "metadata": {
        "colab": {
          "base_uri": "https://localhost:8080/"
        },
        "id": "zHmZO3RBzE1b",
        "outputId": "8f612404-5697-4d36-9754-381d326d39cc"
      },
      "execution_count": 18,
      "outputs": [
        {
          "output_type": "execute_result",
          "data": {
            "text/plain": [
              "True"
            ]
          },
          "metadata": {},
          "execution_count": 18
        }
      ]
    },
    {
      "cell_type": "code",
      "source": [],
      "metadata": {
        "id": "Hg7HvBMX0ClO"
      },
      "execution_count": null,
      "outputs": []
    }
  ]
}